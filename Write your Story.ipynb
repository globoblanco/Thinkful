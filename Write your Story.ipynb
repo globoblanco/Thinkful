{
 "cells": [
  {
   "cell_type": "markdown",
   "metadata": {},
   "source": [
    "## Question 1"
   ]
  },
  {
   "cell_type": "markdown",
   "metadata": {},
   "source": [
    "During the last 20+ years in the data industry, I have gain knowledge and experience of major database engines such as Oracle, MS SQL Server, MySQL, etc. I have been able to develop and use my skill in the design and modeling of OLTP and OLAP systems that use a Database engine in the back ground.  By designing, deploying, and implementing logical and physical databases, I have been able to determine points of weak performance and define solutions to issues of performance, backup and recovery, Continue Integration/Continuous Recovery and combine all these technologies to create an environment where developers, DBA’s and Architects Are able to focus their skills and talents to focus on what they do best.  By adding my skills in Data Mining, Data Warehousing, and Database Design, I am not just able architect efficient systems, but systems to collect the right information that can be analyzed and mined to produce the information business need to thrive and grow in their industry.  I am looking for the opportunity to put these skills to work and grow with the companies that are willing to thrive and commit to a better future of possibilities."
   ]
  },
  {
   "cell_type": "markdown",
   "metadata": {},
   "source": [
    "## Question 2"
   ]
  },
  {
   "cell_type": "markdown",
   "metadata": {},
   "source": [
    "In today’s fierce market across different industries, companies desperately try to operate using the latest technologies, sometimes without even understanding the technologies available and how they can benefit the enterprise. Most of the time, budgets, buzz words, and lack of understanding drive decision makers to adopt technologies without having a defined goal.  Most of the time, answers exist in the stored data they manipulate. By applying the principles and technologies I have learned throughout years of experience using Data Storage principles and engines, I can assist enterprises in the discovery of that golden egg stored in their basement of data. Applying not only the principles of Data Science, but also how to prepare and organize data efficiently so it can be searched and mined, I can help provide stake holders answers, trends, and supporting information to the decisions they need to make to open a future of possibilities in their enterprise."
   ]
  },
  {
   "cell_type": "markdown",
   "metadata": {},
   "source": [
    "## Question 3"
   ]
  },
  {
   "cell_type": "markdown",
   "metadata": {},
   "source": [
    "During the last 20+ years in the data industry, I have gained knowledge and experience of major database engines such as Oracle, MS SQL Server, MySQL, etc. I have been able to develop and use my skills in the design and modeling of OLTP and OLAP systems that use a Database engine in the back ground By leveranging my skill in Data Mining, Data Warehouse, Data Architecture, Machine Learning and Data Science I am able to assist those doing research and work in the medical field to create smart systems that produce the information businesses need."
   ]
  },
  {
   "cell_type": "code",
   "execution_count": null,
   "metadata": {},
   "outputs": [],
   "source": []
  }
 ],
 "metadata": {
  "kernelspec": {
   "display_name": "Python 3",
   "language": "python",
   "name": "python3"
  },
  "language_info": {
   "codemirror_mode": {
    "name": "ipython",
    "version": 3
   },
   "file_extension": ".py",
   "mimetype": "text/x-python",
   "name": "python",
   "nbconvert_exporter": "python",
   "pygments_lexer": "ipython3",
   "version": "3.7.2"
  }
 },
 "nbformat": 4,
 "nbformat_minor": 2
}
