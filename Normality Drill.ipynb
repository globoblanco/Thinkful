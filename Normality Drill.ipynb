{
 "cells": [
  {
   "cell_type": "code",
   "execution_count": 1,
   "metadata": {},
   "outputs": [],
   "source": [
    "import numpy as np\n",
    "import pandas as pd\n",
    "import matplotlib.pyplot as plt\n",
    "%matplotlib inline"
   ]
  },
  {
   "cell_type": "code",
   "execution_count": 5,
   "metadata": {},
   "outputs": [],
   "source": [
    "# Making a standard normally distributed variable with 1000 observations, a mean of 0, and \n",
    "# a standard deviation of 1, and putting it in a data frame.\n",
    "mean1 = 5 \n",
    "mean2 = 10\n",
    "sd1 = 0.5\n",
    "sd2 = 1\n",
    "n = 100"
   ]
  },
  {
   "cell_type": "code",
   "execution_count": 3,
   "metadata": {},
   "outputs": [
    {
     "ename": "SyntaxError",
     "evalue": "invalid syntax (<ipython-input-3-a7f694310587>, line 1)",
     "output_type": "error",
     "traceback": [
      "\u001b[1;36m  File \u001b[1;32m\"<ipython-input-3-a7f694310587>\"\u001b[1;36m, line \u001b[1;32m1\u001b[0m\n\u001b[1;33m    betaDist = np.random.beta(, n)\u001b[0m\n\u001b[1;37m                              ^\u001b[0m\n\u001b[1;31mSyntaxError\u001b[0m\u001b[1;31m:\u001b[0m invalid syntax\n"
     ]
    }
   ],
   "source": [
    "betaDist = np.random.beta(, n)\n",
    "binomialDist = np.random.binamial(, n)\n",
    "logisticDist = np.random.logistic(, n)\n",
    "lognormalDist = np.random.lognormal(, n)\n",
    "triangularDist = np.random.triangular(, n)\n",
    "uniformDist = np.random.uniform(, n)\n",
    "\n",
    "# Plotting the variables in the data frame (here, just the variable \"rand\") as a histogram.\n",
    "betaDist.hist()\n",
    "# Inline printing the histogram\n",
    "plt.show()\n",
    "\n",
    "# Plotting the variables in the data frame (here, just the variable \"rand\") as a histogram.\n",
    "binomialDist.hist()\n",
    "# Inline printing the histogram\n",
    "plt.show()\n",
    "\n",
    "# Plotting the variables in the data frame (here, just the variable \"rand\") as a histogram.\n",
    "logisticDist.hist()\n",
    "# Inline printing the histogram\n",
    "plt.show()\n",
    "\n",
    "# Plotting the variables in the data frame (here, just the variable \"rand\") as a histogram.\n",
    "lognormalDist.hist()\n",
    "# Inline printing the histogram\n",
    "plt.show()\n",
    "\n",
    "# Plotting the variables in the data frame (here, just the variable \"rand\") as a histogram.\n",
    "triangularDist.hist()\n",
    "# Inline printing the histogram\n",
    "plt.show()\n",
    "\n",
    "# Plotting the variables in the data frame (here, just the variable \"rand\") as a histogram.\n",
    "uniformDist.hist()\n",
    "# Inline printing the histogram\n",
    "plt.show()"
   ]
  },
  {
   "cell_type": "code",
   "execution_count": 9,
   "metadata": {},
   "outputs": [
    {
     "data": {
      "image/png": "[encoded data removed]",
      "text/plain": [
       "<Figure size 432x288 with 1 Axes>"
      ]
     },
     "metadata": {
      "needs_background": "light"
     },
     "output_type": "display_data"
    }
   ],
   "source": [
    "# Generate two normally distributed variables\n",
    "var1 = np.random.normal(mean1, sd1, n)\n",
    "var2 = np.random.normal(mean2, sd2, n)\n",
    "varSum = var1 + var2\n",
    "\n",
    "# Computer the mean and Standard Deviation of varSum\n",
    "varSumMean = np.mean(varSum)\n",
    "varSumStd = np.std(varSum)\n",
    "\n",
    "plt.hist(varSum)\n",
    "plt.axvline(x=varSumMean, color='red')\n",
    "plt.axvline(x=varSumMean+varSumStd, color='blue')\n",
    "plt.axvline(x=varSumMean-varSumStd, color='blue')\n",
    "\n",
    "plt.show()\n"
   ]
  },
  {
   "cell_type": "code",
   "execution_count": null,
   "metadata": {},
   "outputs": [],
   "source": []
  }
 ],
 "metadata": {
  "kernelspec": {
   "display_name": "Python 3",
   "language": "python",
   "name": "python3"
  },
  "language_info": {
   "codemirror_mode": {
    "name": "ipython",
    "version": 3
   },
   "file_extension": ".py",
   "mimetype": "text/x-python",
   "name": "python",
   "nbconvert_exporter": "python",
   "pygments_lexer": "ipython3",
   "version": "3.7.2"
  }
 },
 "nbformat": 4,
 "nbformat_minor": 2
}
