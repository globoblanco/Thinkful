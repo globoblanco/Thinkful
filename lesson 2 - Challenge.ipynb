{
 "cells": [
  {
   "cell_type": "markdown",
   "metadata": {},
   "source": [
    "## What's the most expensive listing? What else can you tell me about the listing?\n",
    "WITH most_expensive\n",
    "  AS (SELECT max(l.price)\n",
    "        FROM sfo_listings l)\n",
    "SELECT id, name, host_name, price, last_review\n",
    "  FROM sfo_listings l\n",
    "  JOIN most_expensive m\n",
    "    ON m.max = l.price;\n",
    "\n",
    "A lot more information can be provided base on joins with other tables."
   ]
  },
  {
   "cell_type": "markdown",
   "metadata": {},
   "source": [
    "## What neighborhoods seem to be the most popular?\n",
    "### This is interpreted as follows: What are the neighborboods with the most listingss\n",
    "SELECT neighbourhood, count(id)\n",
    "  FROM sfo_listings\n",
    " GROUP BY 1 \n",
    " ORDER BY 2 DESC\n",
    " LIMIT 5;"
   ]
  },
  {
   "cell_type": "markdown",
   "metadata": {},
   "source": [
    "## What time of year is the cheapest time to go to San Francisco? What about the busiest?\n",
    "WITH high_low\n",
    "  AS (SELECT listing_id, avg(to_number(price, 'L9G999g999.99'))\n",
    "\t    FROM sfo_calendar\n",
    "\t   GROUP BY 1)\n",
    "SELECT c.listing_id, to_char(c.calender_date, 'YYYYMM')\n",
    "  FROM sfo_calendar c\n",
    "  JOIN high_low hl\n",
    "    ON hl.listing_id = c.listing_id\n",
    " WHERE to_number(c.price, 'L9G999g999.99') > hl.avg\n",
    " GROUP BY 1, 2;"
   ]
  },
  {
   "cell_type": "code",
   "execution_count": null,
   "metadata": {},
   "outputs": [],
   "source": []
  }
 ],
 "metadata": {
  "kernelspec": {
   "display_name": "Python 3",
   "language": "python",
   "name": "python3"
  },
  "language_info": {
   "codemirror_mode": {
    "name": "ipython",
    "version": 3
   },
   "file_extension": ".py",
   "mimetype": "text/x-python",
   "name": "python",
   "nbconvert_exporter": "python",
   "pygments_lexer": "ipython3",
   "version": "3.7.2"
  }
 },
 "nbformat": 4,
 "nbformat_minor": 2
}
