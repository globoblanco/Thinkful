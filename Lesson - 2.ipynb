{
 "cells": [
  {
   "cell_type": "markdown",
   "metadata": {},
   "source": [
    "# Question 1:\n",
    "Everytime you toss the coin, you have the same chances of getting H or T. The answer is 0.0625 or 6.25%\n",
    "\n",
    "# Question 2:\n",
    "Probability of choosing a man from the list is 21/45\n",
    "Probability of choosing a woman from the list 24/45\n",
    "\n",
    "# Question 3:\n",
    "P(B | C) = P(b) * P(c)\n",
    "           0.1 * 0.00005\n",
    "           0.000005\n",
    "           0.0005%\n",
    "\n",
    "# Question 4:\n",
    "The more you click the more likely you are to get the survey."
   ]
  }
 ],
 "metadata": {
  "kernelspec": {
   "display_name": "Python 3",
   "language": "python",
   "name": "python3"
  },
  "language_info": {
   "codemirror_mode": {
    "name": "ipython",
    "version": 3
   },
   "file_extension": ".py",
   "mimetype": "text/x-python",
   "name": "python",
   "nbconvert_exporter": "python",
   "pygments_lexer": "ipython3",
   "version": "3.7.0"
  }
 },
 "nbformat": 4,
 "nbformat_minor": 2
}
