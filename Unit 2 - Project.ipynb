{
 "cells": [
  {
   "cell_type": "code",
   "execution_count": 33,
   "metadata": {},
   "outputs": [],
   "source": [
    "import pandas as pd\n",
    "import numpy as np\n",
    "import matplotlib.pyplot as plt\n",
    "%matplotlib inline\n",
    "\n",
    "df = pd.read_csv('Food Imports F.csv', \n",
    "                 index_col='Food Group')\n",
    "##print(df)"
   ]
  },
  {
   "cell_type": "code",
   "execution_count": 34,
   "metadata": {
    "scrolled": true
   },
   "outputs": [
    {
     "data": {
      "text/html": [
       "<div>\n",
       "<style scoped>\n",
       "    .dataframe tbody tr th:only-of-type {\n",
       "        vertical-align: middle;\n",
       "    }\n",
       "\n",
       "    .dataframe tbody tr th {\n",
       "        vertical-align: top;\n",
       "    }\n",
       "\n",
       "    .dataframe thead th {\n",
       "        text-align: right;\n",
       "    }\n",
       "</style>\n",
       "<table border=\"1\" class=\"dataframe\">\n",
       "  <thead>\n",
       "    <tr style=\"text-align: right;\">\n",
       "      <th></th>\n",
       "      <th>1999</th>\n",
       "      <th>2000</th>\n",
       "      <th>2001</th>\n",
       "      <th>2002</th>\n",
       "      <th>2003</th>\n",
       "      <th>2004</th>\n",
       "      <th>2005</th>\n",
       "      <th>2006</th>\n",
       "      <th>2007</th>\n",
       "      <th>2008</th>\n",
       "      <th>2009</th>\n",
       "      <th>2010</th>\n",
       "      <th>2011</th>\n",
       "      <th>2012</th>\n",
       "      <th>2013</th>\n",
       "      <th>2014</th>\n",
       "      <th>2015</th>\n",
       "      <th>2016</th>\n",
       "      <th>2017</th>\n",
       "    </tr>\n",
       "    <tr>\n",
       "      <th>Food Group</th>\n",
       "      <th></th>\n",
       "      <th></th>\n",
       "      <th></th>\n",
       "      <th></th>\n",
       "      <th></th>\n",
       "      <th></th>\n",
       "      <th></th>\n",
       "      <th></th>\n",
       "      <th></th>\n",
       "      <th></th>\n",
       "      <th></th>\n",
       "      <th></th>\n",
       "      <th></th>\n",
       "      <th></th>\n",
       "      <th></th>\n",
       "      <th></th>\n",
       "      <th></th>\n",
       "      <th></th>\n",
       "      <th></th>\n",
       "    </tr>\n",
       "  </thead>\n",
       "  <tbody>\n",
       "    <tr>\n",
       "      <th>Total U.S. food imports</th>\n",
       "      <td>43105.8</td>\n",
       "      <td>45416.5</td>\n",
       "      <td>46063.1</td>\n",
       "      <td>49209.3</td>\n",
       "      <td>55328.9</td>\n",
       "      <td>61531.4</td>\n",
       "      <td>67803.6</td>\n",
       "      <td>74649.9</td>\n",
       "      <td>81076.2</td>\n",
       "      <td>88722.2</td>\n",
       "      <td>81220.7</td>\n",
       "      <td>91322.5</td>\n",
       "      <td>107576.9</td>\n",
       "      <td>111802.8</td>\n",
       "      <td>115000.6</td>\n",
       "      <td>125188.6</td>\n",
       "      <td>126777.6</td>\n",
       "      <td>129119.3</td>\n",
       "      <td>137236.6</td>\n",
       "    </tr>\n",
       "    <tr>\n",
       "      <th>Live meat animals</th>\n",
       "      <td>1189.7</td>\n",
       "      <td>1419.0</td>\n",
       "      <td>1771.2</td>\n",
       "      <td>1723.9</td>\n",
       "      <td>1276.7</td>\n",
       "      <td>1134.3</td>\n",
       "      <td>1672.0</td>\n",
       "      <td>2172.0</td>\n",
       "      <td>2588.0</td>\n",
       "      <td>2266.4</td>\n",
       "      <td>1655.5</td>\n",
       "      <td>2007.1</td>\n",
       "      <td>1886.5</td>\n",
       "      <td>2192.0</td>\n",
       "      <td>2190.2</td>\n",
       "      <td>3008.6</td>\n",
       "      <td>2772.5</td>\n",
       "      <td>2102.9</td>\n",
       "      <td>2020.0</td>\n",
       "    </tr>\n",
       "    <tr>\n",
       "      <th>Meats</th>\n",
       "      <td>3260.5</td>\n",
       "      <td>3827.7</td>\n",
       "      <td>4256.2</td>\n",
       "      <td>4283.5</td>\n",
       "      <td>4426.8</td>\n",
       "      <td>5718.5</td>\n",
       "      <td>5751.9</td>\n",
       "      <td>5243.6</td>\n",
       "      <td>5367.3</td>\n",
       "      <td>5059.8</td>\n",
       "      <td>4612.1</td>\n",
       "      <td>5087.8</td>\n",
       "      <td>5755.2</td>\n",
       "      <td>6245.2</td>\n",
       "      <td>6529.8</td>\n",
       "      <td>8940.4</td>\n",
       "      <td>9991.7</td>\n",
       "      <td>8589.1</td>\n",
       "      <td>8877.6</td>\n",
       "    </tr>\n",
       "    <tr>\n",
       "      <th>Fish and shellfish</th>\n",
       "      <td>8859.8</td>\n",
       "      <td>9879.8</td>\n",
       "      <td>9663.3</td>\n",
       "      <td>9963.3</td>\n",
       "      <td>10859.9</td>\n",
       "      <td>11106.3</td>\n",
       "      <td>11840.2</td>\n",
       "      <td>13112.3</td>\n",
       "      <td>13434.6</td>\n",
       "      <td>13912.0</td>\n",
       "      <td>12933.9</td>\n",
       "      <td>14516.7</td>\n",
       "      <td>16459.4</td>\n",
       "      <td>16467.5</td>\n",
       "      <td>17784.3</td>\n",
       "      <td>20053.5</td>\n",
       "      <td>18520.8</td>\n",
       "      <td>19260.7</td>\n",
       "      <td>21324.1</td>\n",
       "    </tr>\n",
       "    <tr>\n",
       "      <th>Dairy</th>\n",
       "      <td>930.3</td>\n",
       "      <td>922.3</td>\n",
       "      <td>995.8</td>\n",
       "      <td>1008.8</td>\n",
       "      <td>1110.3</td>\n",
       "      <td>1292.3</td>\n",
       "      <td>1388.4</td>\n",
       "      <td>1405.7</td>\n",
       "      <td>1500.8</td>\n",
       "      <td>1595.6</td>\n",
       "      <td>1353.4</td>\n",
       "      <td>1347.2</td>\n",
       "      <td>1502.1</td>\n",
       "      <td>1604.2</td>\n",
       "      <td>1649.1</td>\n",
       "      <td>1844.3</td>\n",
       "      <td>1893.5</td>\n",
       "      <td>1875.8</td>\n",
       "      <td>1827.2</td>\n",
       "    </tr>\n",
       "  </tbody>\n",
       "</table>\n",
       "</div>"
      ],
      "text/plain": [
       "                            1999     2000     2001     2002     2003     2004  \\\n",
       "Food Group                                                                      \n",
       "Total U.S. food imports  43105.8  45416.5  46063.1  49209.3  55328.9  61531.4   \n",
       "Live meat animals         1189.7   1419.0   1771.2   1723.9   1276.7   1134.3   \n",
       "Meats                     3260.5   3827.7   4256.2   4283.5   4426.8   5718.5   \n",
       "Fish and shellfish        8859.8   9879.8   9663.3   9963.3  10859.9  11106.3   \n",
       "Dairy                      930.3    922.3    995.8   1008.8   1110.3   1292.3   \n",
       "\n",
       "                            2005     2006     2007     2008     2009     2010  \\\n",
       "Food Group                                                                      \n",
       "Total U.S. food imports  67803.6  74649.9  81076.2  88722.2  81220.7  91322.5   \n",
       "Live meat animals         1672.0   2172.0   2588.0   2266.4   1655.5   2007.1   \n",
       "Meats                     5751.9   5243.6   5367.3   5059.8   4612.1   5087.8   \n",
       "Fish and shellfish       11840.2  13112.3  13434.6  13912.0  12933.9  14516.7   \n",
       "Dairy                     1388.4   1405.7   1500.8   1595.6   1353.4   1347.2   \n",
       "\n",
       "                             2011      2012      2013      2014      2015  \\\n",
       "Food Group                                                                  \n",
       "Total U.S. food imports  107576.9  111802.8  115000.6  125188.6  126777.6   \n",
       "Live meat animals          1886.5    2192.0    2190.2    3008.6    2772.5   \n",
       "Meats                      5755.2    6245.2    6529.8    8940.4    9991.7   \n",
       "Fish and shellfish        16459.4   16467.5   17784.3   20053.5   18520.8   \n",
       "Dairy                      1502.1    1604.2    1649.1    1844.3    1893.5   \n",
       "\n",
       "                             2016      2017  \n",
       "Food Group                                   \n",
       "Total U.S. food imports  129119.3  137236.6  \n",
       "Live meat animals          2102.9    2020.0  \n",
       "Meats                      8589.1    8877.6  \n",
       "Fish and shellfish        19260.7   21324.1  \n",
       "Dairy                      1875.8    1827.2  "
      ]
     },
     "execution_count": 34,
     "metadata": {},
     "output_type": "execute_result"
    }
   ],
   "source": [
    "df.head()"
   ]
  },
  {
   "cell_type": "code",
   "execution_count": 31,
   "metadata": {},
   "outputs": [
    {
     "data": {
      "image/png": "[encoded data removed]",
      "text/plain": [
       "<Figure size 720x432 with 1 Axes>"
      ]
     },
     "metadata": {
      "needs_background": "light"
     },
     "output_type": "display_data"
    }
   ],
   "source": [
    "plt.rcParams['figure.figsize'] = (10, 6)\n",
    "plt.plot(df.loc['Total U.S. food imports'])\n",
    "plt.plot(df.loc['Total animal foods'])\n",
    "plt.plot(df.loc['Total plant foods'])\n",
    "plt.plot(df.loc['Total beverages'])\n",
    "plt.ylabel('$ (Millions)')\n",
    "plt.xlabel('Years')\n",
    "plt.title('U.S Food Imports\\nIn Millions')\n",
    "plt.legend()\n",
    "plt.show()"
   ]
  },
  {
   "cell_type": "markdown",
   "metadata": {},
   "source": [
    "the plot above show the contrast of categories of food imports, Animal Foods, Plant Foods, Beverages, against the total amount of U.S. Imports yearly for the general sector, U.S. Food Imports."
   ]
  },
  {
   "cell_type": "code",
   "execution_count": 39,
   "metadata": {},
   "outputs": [
    {
     "data": {
      "text/plain": [
       "<matplotlib.collections.PathCollection at 0x2e92b88ccf8>"
      ]
     },
     "execution_count": 39,
     "metadata": {},
     "output_type": "execute_result"
    },
    {
     "data": {
      "image/png": "[encoded data removed]",
      "text/plain": [
       "<Figure size 432x288 with 1 Axes>"
      ]
     },
     "metadata": {
      "needs_background": "light"
     },
     "output_type": "display_data"
    }
   ],
   "source": [
    "plt.scatter(df.iloc[:,0], df.iloc[:,1])"
   ]
  },
  {
   "cell_type": "code",
   "execution_count": null,
   "metadata": {},
   "outputs": [],
   "source": []
  }
 ],
 "metadata": {
  "kernelspec": {
   "display_name": "Python 3",
   "language": "python",
   "name": "python3"
  },
  "language_info": {
   "codemirror_mode": {
    "name": "ipython",
    "version": 3
   },
   "file_extension": ".py",
   "mimetype": "text/x-python",
   "name": "python",
   "nbconvert_exporter": "python",
   "pygments_lexer": "ipython3",
   "version": "3.7.0"
  }
 },
 "nbformat": 4,
 "nbformat_minor": 2
}
