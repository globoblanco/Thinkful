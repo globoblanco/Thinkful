{
 "cells": [
  {
   "cell_type": "code",
   "execution_count": null,
   "metadata": {},
   "outputs": [],
   "source": [
    "import pandas as pd\n",
    "import numpy as np\n",
    "import matplotlib.pyplot as plt\n",
    "%matplotlib inline\n",
    "\n",
    "df = pd.read_csv('ThinkfulFood Imports F.csv', \n",
    "                 index_col='Food Group')\n",
    "\n",
    "plt.rcParams['figure.figsize'] = (10, 6)\n",
    "plt.plot(df.loc['Total U.S. food imports'])\n",
    "plt.plot(df.loc['Total animal foods'])\n",
    "plt.plot(df.loc['Total plant foods'])\n",
    "plt.plot(df.loc['Total beverages'])\n",
    "plt.ylabel('$ (Millions)')\n",
    "plt.xlabel('Years')\n",
    "plt.title('U.S Food Imports\\nIn Millions')\n",
    "plt.legend()\n",
    "\n",
    "plt.show()"
   ]
  }
 ],
 "metadata": {
  "kernelspec": {
   "display_name": "Python 3",
   "language": "python",
   "name": "python3"
  },
  "language_info": {
   "codemirror_mode": {
    "name": "ipython",
    "version": 3
   },
   "file_extension": ".py",
   "mimetype": "text/x-python",
   "name": "python",
   "nbconvert_exporter": "python",
   "pygments_lexer": "ipython3",
   "version": "3.7.0"
  }
 },
 "nbformat": 4,
 "nbformat_minor": 2
}
