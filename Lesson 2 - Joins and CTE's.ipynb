{
 "cells": [
  {
   "cell_type": "markdown",
   "metadata": {},
   "source": [
    "## What are the three longest trips on rainy days?\n",
    "WITH rainy_dates\n",
    "  AS (SELECT date\n",
    "\t    FROM weather\n",
    "\t   WHERE upper(events) like 'RAIN%')\n",
    "SELECT trip_id, duration\n",
    "  FROM trips t\n",
    "  JOIN rainy_dates rd\n",
    "    ON rd.date = substring(t.start_date, 1, 10) \n",
    " ORDER BY t.duration DESC\n",
    " LIMIT 3;"
   ]
  },
  {
   "cell_type": "markdown",
   "metadata": {},
   "source": [
    "## Which station is full most often?\n",
    "WITH station_cap\n",
    "  AS (\n",
    "SELECT station_id,\n",
    "       max(bikes_available) max_bikes\n",
    "  FROM status\n",
    " GROUP BY station_id)\n",
    "SELECT substring(start_date, 1, 10),\n",
    "       s.station_id,\n",
    "\t   c.max_bikes,\n",
    "\t   count(bike_id)\n",
    "  FROM trips t\n",
    "  JOIN stations s\n",
    "    ON s.name = t.start_station\n",
    "  JOIN station_cap c\n",
    "    ON s.station_id = c.station_id\n",
    " GROUP BY 1, 2, 3\n",
    "HAVING count(bike_id) >= c.max_bikes;"
   ]
  },
  {
   "cell_type": "markdown",
   "metadata": {},
   "source": [
    "## Return a list of stations with a count of number of trips starting at that station but ordered by dock count.\n",
    "SELECT s.station_id, s.dockcount, count(t.trip_id) number_of_trips\n",
    "  FROM stations s\n",
    "  JOIN trips t\n",
    "    ON t.start_station = s.name\n",
    " GROUP BY 1, 2\n",
    " ORDER BY s.dockcount;"
   ]
  },
  {
   "cell_type": "code",
   "execution_count": null,
   "metadata": {},
   "outputs": [],
   "source": []
  }
 ],
 "metadata": {
  "kernelspec": {
   "display_name": "Python 3",
   "language": "python",
   "name": "python3"
  },
  "language_info": {
   "codemirror_mode": {
    "name": "ipython",
    "version": 3
   },
   "file_extension": ".py",
   "mimetype": "text/x-python",
   "name": "python",
   "nbconvert_exporter": "python",
   "pygments_lexer": "ipython3",
   "version": "3.7.2"
  }
 },
 "nbformat": 4,
 "nbformat_minor": 2
}
