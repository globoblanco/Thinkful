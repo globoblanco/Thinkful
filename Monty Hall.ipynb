{
 "cells": [
  {
   "cell_type": "markdown",
   "metadata": {},
   "source": [
    "Consider the following:\n",
    "I choose door 1\n",
    "car is in door 3\n",
    "Host must open extra door\n",
    "\n",
    "After I choose door 1, host opens door 2, If I switch, then I win the car. If not, then I loose\n",
    "After I choose door 2, host opens door 1, If I switch, then I wint he car. If not, then I loose\n",
    "After I choose door 3, host opens either door 1, or door 2.  If I switch, I loose. If not, then I win.\n",
    "\n",
    "It seems if I switch, I have a 2 out of 3 chance to win by switching than by not switching."
   ]
  },
  {
   "cell_type": "code",
   "execution_count": null,
   "metadata": {},
   "outputs": [],
   "source": []
  }
 ],
 "metadata": {
  "kernelspec": {
   "display_name": "Python 3",
   "language": "python",
   "name": "python3"
  },
  "language_info": {
   "codemirror_mode": {
    "name": "ipython",
    "version": 3
   },
   "file_extension": ".py",
   "mimetype": "text/x-python",
   "name": "python",
   "nbconvert_exporter": "python",
   "pygments_lexer": "ipython3",
   "version": "3.7.0"
  }
 },
 "nbformat": 4,
 "nbformat_minor": 2
}
