{
 "cells": [
  {
   "cell_type": "markdown",
   "metadata": {},
   "source": [
    "## Query 1\n",
    "select trip_id,\n",
    "        duration\n",
    "  from trips\n",
    " where duration > 500\n",
    " order by duration;\n",
    "\n",
    "## Query 2\n",
    "select *\n",
    "  from stations\n",
    " where station_id = 84\n",
    "\n",
    "## Query 3\n",
    "select we.mintemperaturef\n",
    "  from weather we\n",
    " where we.zip = '94301'\n",
    "   and UPPER(events) = 'RAIN';"
   ]
  }
 ],
 "metadata": {
  "kernelspec": {
   "display_name": "Python 3",
   "language": "python",
   "name": "python3"
  },
  "language_info": {
   "codemirror_mode": {
    "name": "ipython",
    "version": 3
   },
   "file_extension": ".py",
   "mimetype": "text/x-python",
   "name": "python",
   "nbconvert_exporter": "python",
   "pygments_lexer": "ipython3",
   "version": "3.7.2"
  }
 },
 "nbformat": 4,
 "nbformat_minor": 2
}
