{
 "cells": [
  {
   "cell_type": "markdown",
   "metadata": {},
   "source": [
    "## What is the hotest day in our data set?\n",
    "select date, maxtemperaturef, zip\n",
    "  from weather\n",
    " where maxtemperaturef = (select max(maxtemperaturef)\n",
    "\t\t\t\t\t\t    from weather)\n",
    ";\n",
    "\n",
    "## Where was that?\n",
    "select distinct start_station\n",
    "  from trips\n",
    " where zip_code = '94063';\n",
    "\n",
    "## How many trips started at each station?\n",
    "select start_station, count(trip_id)\n",
    "  from trips\n",
    " group by start_station;\n",
    "\n",
    "## What's the sortest trip that happened?\n",
    "select trip_id, duration\n",
    "  from trips a\n",
    " where duration = (select min(duration)\n",
    "                     from trips b)\n",
    ";\n",
    "\n",
    "## What is the average trip duration, by end station?\n",
    "select end_station, avg(duration)\n",
    "  from trips\n",
    " group by 1;"
   ]
  }
 ],
 "metadata": {
  "kernelspec": {
   "display_name": "Python 3",
   "language": "python",
   "name": "python3"
  },
  "language_info": {
   "codemirror_mode": {
    "name": "ipython",
    "version": 3
   },
   "file_extension": ".py",
   "mimetype": "text/x-python",
   "name": "python",
   "nbconvert_exporter": "python",
   "pygments_lexer": "ipython3",
   "version": "3.7.2"
  }
 },
 "nbformat": 4,
 "nbformat_minor": 2
}
